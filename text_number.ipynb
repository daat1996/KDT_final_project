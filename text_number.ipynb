{
 "cells": [
  {
   "cell_type": "markdown",
   "id": "e6934748ee78d9b9",
   "metadata": {
    "collapsed": false
   },
   "source": [
    "### 플레이어 측 연산기호 입력 함수 생성"
   ]
  },
  {
   "cell_type": "code",
   "execution_count": 12,
   "id": "2b5a3cc63d7cf662",
   "metadata": {
    "ExecuteTime": {
     "end_time": "2024-04-28T07:36:01.525911Z",
     "start_time": "2024-04-28T07:36:01.513307800Z"
    },
    "collapsed": false
   },
   "outputs": [],
   "source": [
    "expression = '(14/1)'"
   ]
  },
  {
   "cell_type": "code",
   "execution_count": 13,
   "id": "6613d877eb4c0ea",
   "metadata": {
    "ExecuteTime": {
     "end_time": "2024-04-28T07:36:01.722317400Z",
     "start_time": "2024-04-28T07:36:01.715471100Z"
    },
    "collapsed": false
   },
   "outputs": [
    {
     "name": "stdout",
     "output_type": "stream",
     "text": [
      "14.0\n"
     ]
    }
   ],
   "source": [
    "try: print(eval(expression))\n",
    "except:print('식에 오류가 있습니다. 괄호 혹은 연산기호를 확인해 주세요.')"
   ]
  },
  {
   "cell_type": "code",
   "execution_count": 15,
   "id": "406a197e1200d6ab",
   "metadata": {
    "ExecuteTime": {
     "end_time": "2024-04-28T07:36:24.070603400Z",
     "start_time": "2024-04-28T07:36:24.045150700Z"
    },
    "collapsed": false
   },
   "outputs": [
    {
     "data": {
      "text/plain": [
       "4.0"
      ]
     },
     "execution_count": 15,
     "metadata": {},
     "output_type": "execute_result"
    }
   ],
   "source": [
    "a = 4\n",
    "float(a)"
   ]
  },
  {
   "cell_type": "code",
   "execution_count": 23,
   "id": "71d9be80f0d3a6d",
   "metadata": {
    "ExecuteTime": {
     "end_time": "2024-04-28T08:39:59.669486Z",
     "start_time": "2024-04-28T08:39:59.645267900Z"
    },
    "collapsed": false
   },
   "outputs": [],
   "source": [
    "def player_expression(express):\n",
    "    try: print(eval(express))\n",
    "    except:print('식에 오류가 있습니다. 괄호 혹은 연산기호를 확인해 주세요.')"
   ]
  },
  {
   "cell_type": "code",
   "execution_count": 24,
   "id": "1196d0d258a231e2",
   "metadata": {
    "ExecuteTime": {
     "end_time": "2024-04-28T08:40:25.602247100Z",
     "start_time": "2024-04-28T08:40:25.574025100Z"
    },
    "collapsed": false
   },
   "outputs": [
    {
     "name": "stdout",
     "output_type": "stream",
     "text": [
      "-47.25\n"
     ]
    }
   ],
   "source": [
    "player_expression('3/4+2-5*10')"
   ]
  },
  {
   "cell_type": "markdown",
   "id": "fa16ff07ad14a16d",
   "metadata": {
    "collapsed": false
   },
   "source": [
    "### 컴퓨터 측 자동계산 생성 함수"
   ]
  },
  {
   "cell_type": "code",
   "execution_count": 25,
   "id": "7c1a8354d3133501",
   "metadata": {
    "ExecuteTime": {
     "end_time": "2024-04-28T08:41:35.197497800Z",
     "start_time": "2024-04-28T08:41:35.177548500Z"
    },
    "collapsed": false
   },
   "outputs": [],
   "source": [
    "def find_expression(numbers, target):\n",
    "    def backtrack(expression, start, value):\n",
    "        if start == len(numbers):\n",
    "            if value == target:\n",
    "                print(\"식을 찾았습니다:\", expression)\n",
    "            return\n",
    "\n",
    "        for i in range(start, len(numbers)):\n",
    "            num = numbers[i]\n",
    "            backtrack(expression + \"+\" + str(num), i + 1, value + num)\n",
    "            backtrack(expression + \"-\" + str(num), i + 1, value - num)\n",
    "            backtrack(expression + \"*\" + str(num), i + 1, value * num)\n",
    "            if num != 0 and value % num == 0:  # 나눗셈에서 나머지가 없는 경우에만 진행\n",
    "                backtrack(expression + \"/\" + str(num), i + 1, value // num)\n",
    "\n",
    "    backtrack(\"\", 0, 0)\n",
    "    \n",
    "    # 원하는 숫자를 만들 수 없다면\n",
    "    print(\"원하는 숫자를 만들 수 없습니다.\")\n"
   ]
  },
  {
   "cell_type": "code",
   "execution_count": 26,
   "id": "f1f6c6c77ca90d25",
   "metadata": {
    "ExecuteTime": {
     "end_time": "2024-04-28T08:41:35.725991100Z",
     "start_time": "2024-04-28T08:41:35.671132300Z"
    },
    "collapsed": false
   },
   "outputs": [
    {
     "name": "stdout",
     "output_type": "stream",
     "text": [
      "원하는 숫자를 만들 수 없습니다.\n"
     ]
    }
   ],
   "source": [
    "# 예제 사용\n",
    "numbers = [9, 10, 4, 2, 7, 5]\n",
    "target = 301\n",
    "\n",
    "find_expression(numbers, target)\n"
   ]
  },
  {
   "cell_type": "code",
   "execution_count": 22,
   "id": "3b3ca4d9a02e7d29",
   "metadata": {
    "ExecuteTime": {
     "end_time": "2024-04-28T08:31:19.137640Z",
     "start_time": "2024-04-28T08:31:19.117813100Z"
    },
    "collapsed": false
   },
   "outputs": [
    {
     "data": {
      "text/plain": [
       "float"
      ]
     },
     "execution_count": 22,
     "metadata": {},
     "output_type": "execute_result"
    }
   ],
   "source": [
    "type(-2.0)"
   ]
  },
  {
   "cell_type": "code",
   "execution_count": 29,
   "id": "bf74c4f3e0f01ecd",
   "metadata": {
    "ExecuteTime": {
     "end_time": "2024-04-28T16:49:14.071967400Z",
     "start_time": "2024-04-28T16:49:14.057403300Z"
    },
    "collapsed": false
   },
   "outputs": [
    {
     "name": "stdout",
     "output_type": "stream",
     "text": [
      "['1.jpg', '102.jpg', '103.jpg', '104.jpg', '105.jpg', '106.jpg', '110.jpg', '113.jpg', '114.jpg', '115.jpg', '116.jpg', '119.jpg', '146.jpg', '147.jpg', '148.jpg', '149.jpg', '150.jpg', '151.jpg', '152.jpg', '153.jpg', '154.jpg', '155.jpg', '156.jpg', '157.jpg', '158.jpg', '159.jpg', '161.jpg', '162.jpg', '169.jpg', '173.jpg', '174.jpg', '176.jpg', '178.jpg', '179.jpg', '191.jpg', '192.jpg', '193.jpg', '194.jpg', '195.jpg', '196.jpg', '197.jpg', '198.jpg', '200.jpg', '201.jpg', '202.jpg', '212.jpg', '213.jpg', '214.jpg', '215.jpg', '216.jpg', '217.jpg', '218.jpg', '219.jpg', '224.jpg', '238.jpg', '38.jpg', '39.jpg', '46.jpg', '47.jpg', '48.jpg', '49.jpg', '50.jpg', '51.jpg', '52.jpg', '53.jpg', '54.jpg', '56.jpg', '57.jpg', '60.jpg', '81.jpg', '82.jpg', '83.jpg', '84.jpg', '85.jpg']\n"
     ]
    }
   ],
   "source": [
    "import os\n",
    "# 폴더 경로\n",
    "numcard_folder_path='./data/numcard'\n",
    "chacard_folder_path='./data/chrcard'\n",
    "\n",
    "charfiles = os.listdir(chacard_folder_path)\n",
    "print(charfiles)\n"
   ]
  },
  {
   "cell_type": "code",
   "execution_count": 2,
   "id": "8c1f82e8e125f7eb",
   "metadata": {
    "ExecuteTime": {
     "end_time": "2024-04-28T18:06:11.040688Z",
     "start_time": "2024-04-28T18:06:11.009924900Z"
    },
    "collapsed": false
   },
   "outputs": [],
   "source": [
    "import numpy as np\n",
    "import pandas as pd\n",
    "import csv\n",
    "\n",
    "# 카드 정보 불러오기\n",
    "# cardDF = pd.read_csv('./data/cardlist.csv')\n",
    "# cardDF['path'] = './data/chrcard/' + cardDF['no'].astype(str) + '.img'\n",
    "# cardDF.set_index('no', inplace=True)\n",
    "# cardDF"
   ]
  },
  {
   "cell_type": "code",
   "execution_count": 44,
   "id": "4b5756a314b695a6",
   "metadata": {
    "ExecuteTime": {
     "end_time": "2024-04-28T18:09:17.374354900Z",
     "start_time": "2024-04-28T18:09:17.354190500Z"
    },
    "collapsed": false
   },
   "outputs": [],
   "source": [
    "# cardDF.to_csv('./data/character.csv',index=True)"
   ]
  },
  {
   "cell_type": "code",
   "execution_count": 3,
   "id": "8c1a7c9aba331a7",
   "metadata": {
    "ExecuteTime": {
     "end_time": "2024-04-28T18:16:11.402316800Z",
     "start_time": "2024-04-28T18:16:11.370942400Z"
    },
    "collapsed": false
   },
   "outputs": [
    {
     "data": {
      "text/html": [
       "<div>\n",
       "<style scoped>\n",
       "    .dataframe tbody tr th:only-of-type {\n",
       "        vertical-align: middle;\n",
       "    }\n",
       "\n",
       "    .dataframe tbody tr th {\n",
       "        vertical-align: top;\n",
       "    }\n",
       "\n",
       "    .dataframe thead th {\n",
       "        text-align: right;\n",
       "    }\n",
       "</style>\n",
       "<table border=\"1\" class=\"dataframe\">\n",
       "  <thead>\n",
       "    <tr style=\"text-align: right;\">\n",
       "      <th></th>\n",
       "      <th>level</th>\n",
       "      <th>force</th>\n",
       "      <th>feature</th>\n",
       "      <th>path</th>\n",
       "    </tr>\n",
       "    <tr>\n",
       "      <th>no</th>\n",
       "      <th></th>\n",
       "      <th></th>\n",
       "      <th></th>\n",
       "      <th></th>\n",
       "    </tr>\n",
       "  </thead>\n",
       "  <tbody>\n",
       "    <tr>\n",
       "      <th>1</th>\n",
       "      <td>65</td>\n",
       "      <td>71</td>\n",
       "      <td>+,-,×,÷(1~2) 중 하나를 택할 수 있다</td>\n",
       "      <td>./data/chrcard/1.img</td>\n",
       "    </tr>\n",
       "    <tr>\n",
       "      <th>38</th>\n",
       "      <td>20</td>\n",
       "      <td>27</td>\n",
       "      <td>자신의 세번째 공격시 불리하다고 생각되면 도망쳐 무승부를 만들 수 있다</td>\n",
       "      <td>./data/chrcard/38.img</td>\n",
       "    </tr>\n",
       "    <tr>\n",
       "      <th>39</th>\n",
       "      <td>22</td>\n",
       "      <td>33</td>\n",
       "      <td>자신의 세번째 공격시 불리하다고 생각되면 도망쳐 무승부를 만들 수 있다</td>\n",
       "      <td>./data/chrcard/39.img</td>\n",
       "    </tr>\n",
       "    <tr>\n",
       "      <th>46</th>\n",
       "      <td>18</td>\n",
       "      <td>23</td>\n",
       "      <td>×2</td>\n",
       "      <td>./data/chrcard/46.img</td>\n",
       "    </tr>\n",
       "    <tr>\n",
       "      <th>47</th>\n",
       "      <td>47</td>\n",
       "      <td>47</td>\n",
       "      <td>×(1~4)</td>\n",
       "      <td>./data/chrcard/47.img</td>\n",
       "    </tr>\n",
       "    <tr>\n",
       "      <th>...</th>\n",
       "      <td>...</td>\n",
       "      <td>...</td>\n",
       "      <td>...</td>\n",
       "      <td>...</td>\n",
       "    </tr>\n",
       "    <tr>\n",
       "      <th>217</th>\n",
       "      <td>103</td>\n",
       "      <td>103</td>\n",
       "      <td>×(2~4)를 2번 사용 할 수 있다</td>\n",
       "      <td>./data/chrcard/217.img</td>\n",
       "    </tr>\n",
       "    <tr>\n",
       "      <th>218</th>\n",
       "      <td>67</td>\n",
       "      <td>71</td>\n",
       "      <td>1부터 10의 숫자를 하나 사용할 수 있다</td>\n",
       "      <td>./data/chrcard/218.img</td>\n",
       "    </tr>\n",
       "    <tr>\n",
       "      <th>219</th>\n",
       "      <td>68</td>\n",
       "      <td>67</td>\n",
       "      <td>최초 공격시 숫자카드를 세 장 뒤집는다</td>\n",
       "      <td>./data/chrcard/219.img</td>\n",
       "    </tr>\n",
       "    <tr>\n",
       "      <th>224</th>\n",
       "      <td>80</td>\n",
       "      <td>137</td>\n",
       "      <td>+,×(4~6)</td>\n",
       "      <td>./data/chrcard/224.img</td>\n",
       "    </tr>\n",
       "    <tr>\n",
       "      <th>238</th>\n",
       "      <td>120</td>\n",
       "      <td>103</td>\n",
       "      <td>×(2~8)을 두 번 사용할 수 있다</td>\n",
       "      <td>./data/chrcard/238.img</td>\n",
       "    </tr>\n",
       "  </tbody>\n",
       "</table>\n",
       "<p>74 rows × 4 columns</p>\n",
       "</div>"
      ],
      "text/plain": [
       "     level  force                                  feature  \\\n",
       "no                                                           \n",
       "1       65     71               +,-,×,÷(1~2) 중 하나를 택할 수 있다   \n",
       "38      20     27  자신의 세번째 공격시 불리하다고 생각되면 도망쳐 무승부를 만들 수 있다   \n",
       "39      22     33  자신의 세번째 공격시 불리하다고 생각되면 도망쳐 무승부를 만들 수 있다   \n",
       "46      18     23                                       ×2   \n",
       "47      47     47                                   ×(1~4)   \n",
       "..     ...    ...                                      ...   \n",
       "217    103    103                     ×(2~4)를 2번 사용 할 수 있다   \n",
       "218     67     71                  1부터 10의 숫자를 하나 사용할 수 있다   \n",
       "219     68     67                    최초 공격시 숫자카드를 세 장 뒤집는다   \n",
       "224     80    137                                 +,×(4~6)   \n",
       "238    120    103                     ×(2~8)을 두 번 사용할 수 있다   \n",
       "\n",
       "                       path  \n",
       "no                           \n",
       "1      ./data/chrcard/1.img  \n",
       "38    ./data/chrcard/38.img  \n",
       "39    ./data/chrcard/39.img  \n",
       "46    ./data/chrcard/46.img  \n",
       "47    ./data/chrcard/47.img  \n",
       "..                      ...  \n",
       "217  ./data/chrcard/217.img  \n",
       "218  ./data/chrcard/218.img  \n",
       "219  ./data/chrcard/219.img  \n",
       "224  ./data/chrcard/224.img  \n",
       "238  ./data/chrcard/238.img  \n",
       "\n",
       "[74 rows x 4 columns]"
      ]
     },
     "execution_count": 3,
     "metadata": {},
     "output_type": "execute_result"
    }
   ],
   "source": [
    "# 덱에서 랜덤으로 카드 뽑게 만들기\n",
    "import random\n",
    "\n",
    "deckDF = pd.read_csv('./data/character.csv',index_col=0)\n",
    "deckDF"
   ]
  },
  {
   "cell_type": "code",
   "execution_count": 62,
   "id": "588426aea09578c",
   "metadata": {
    "collapsed": false,
    "ExecuteTime": {
     "end_time": "2024-04-29T21:13:34.442293100Z",
     "start_time": "2024-04-29T21:13:34.404052500Z"
    }
   },
   "outputs": [
    {
     "data": {
      "text/plain": "[218, 48]"
     },
     "execution_count": 62,
     "metadata": {},
     "output_type": "execute_result"
    }
   ],
   "source": [
    "deck = random.sample(deckDF.index.tolist(), 2)\n",
    "deck"
   ]
  },
  {
   "cell_type": "code",
   "execution_count": 70,
   "id": "d46c302e",
   "metadata": {
    "ExecuteTime": {
     "end_time": "2024-04-30T00:14:00.475927100Z",
     "start_time": "2024-04-30T00:14:00.463246300Z"
    }
   },
   "outputs": [
    {
     "data": {
      "text/plain": "[2, 1, 1, 2, 8, 9, 6, 3, 3, 7, 5, 6, 8, 'X', 4, 10, 9, 10, 7, 5, 4]"
     },
     "execution_count": 70,
     "metadata": {},
     "output_type": "execute_result"
    }
   ],
   "source": [
    "cardList=[1,1,2,2,3,3,4,4,5,5,6,6,7,7,8,8,9,9,10,10,'X']\n",
    "random.shuffle(cardList)\n",
    "cardList"
   ]
  },
  {
   "cell_type": "code",
   "outputs": [
    {
     "name": "stdout",
     "output_type": "stream",
     "text": [
      "<class 'pandas.core.frame.DataFrame'>\n",
      "Index: 74 entries, 1 to 238\n",
      "Data columns (total 4 columns):\n",
      " #   Column   Non-Null Count  Dtype \n",
      "---  ------   --------------  ----- \n",
      " 0   level    74 non-null     int64 \n",
      " 1   force    74 non-null     int64 \n",
      " 2   feature  57 non-null     object\n",
      " 3   path     74 non-null     object\n",
      "dtypes: int64(2), object(2)\n",
      "memory usage: 4.9+ KB\n"
     ]
    }
   ],
   "source": [
    "deckDF.info()"
   ],
   "metadata": {
    "collapsed": false,
    "ExecuteTime": {
     "end_time": "2024-04-30T01:27:02.691546500Z",
     "start_time": "2024-04-30T01:27:02.684964100Z"
    }
   },
   "id": "e49e884d03daf046",
   "execution_count": 98
  },
  {
   "cell_type": "code",
   "execution_count": 68,
   "id": "b2d267fa0905d62f",
   "metadata": {
    "collapsed": false,
    "ExecuteTime": {
     "end_time": "2024-04-29T21:17:53.073040300Z",
     "start_time": "2024-04-29T21:17:53.018922300Z"
    }
   },
   "outputs": [
    {
     "name": "stdout",
     "output_type": "stream",
     "text": [
      "level                           67\n",
      "force                           71\n",
      "feature    1부터 10의 숫자를 하나 사용할 수 있다\n",
      "path        ./data/chrcard/218.img\n",
      "Name: 218, dtype: object\n",
      "level                         15\n",
      "force                         19\n",
      "feature                   -(1~2)\n",
      "path       ./data/chrcard/48.img\n",
      "Name: 48, dtype: object\n"
     ]
    },
    {
     "data": {
      "text/plain": "67"
     },
     "execution_count": 68,
     "metadata": {},
     "output_type": "execute_result"
    }
   ],
   "source": [
    "for a in deck[:3]:\n",
    "    print(deckDF.loc[a])\n",
    "deckDF.loc[deck[0]].level"
   ]
  },
  {
   "cell_type": "code",
   "execution_count": 65,
   "id": "68e9c92c36311037",
   "metadata": {
    "collapsed": false,
    "ExecuteTime": {
     "end_time": "2024-04-29T21:17:13.594210Z",
     "start_time": "2024-04-29T21:17:13.578214300Z"
    }
   },
   "outputs": [
    {
     "name": "stdout",
     "output_type": "stream",
     "text": [
      "6\n",
      "[nan, nan, nan, nan, nan, nan]\n"
     ]
    }
   ],
   "source": [
    "a=np.nan\n",
    "print(len([a,a,a,a,a,a]))\n",
    "print([a,a,a,a,a,a])"
   ]
  },
  {
   "cell_type": "code",
   "execution_count": 60,
   "id": "690df3965a159963",
   "metadata": {
    "ExecuteTime": {
     "end_time": "2024-04-29T10:25:02.159657300Z",
     "start_time": "2024-04-29T10:25:02.144446100Z"
    },
    "collapsed": false
   },
   "outputs": [
    {
     "data": {
      "text/plain": [
       "[1, 2]"
      ]
     },
     "execution_count": 60,
     "metadata": {},
     "output_type": "execute_result"
    }
   ],
   "source": [
    "list((1,2))"
   ]
  },
  {
   "cell_type": "code",
   "execution_count": 76,
   "id": "9a01e22b77260c77",
   "metadata": {
    "collapsed": false,
    "ExecuteTime": {
     "end_time": "2024-04-30T00:14:37.016279600Z",
     "start_time": "2024-04-30T00:14:37.012397700Z"
    }
   },
   "outputs": [
    {
     "name": "stdout",
     "output_type": "stream",
     "text": [
      "10\n",
      "[2, 1, 1, 2, 8, 9, 6, 3, 3, 7, 5, 6, 8, 'X', 4]\n"
     ]
    }
   ],
   "source": [
    "abc = cardList.pop()\n",
    "print(abc)\n",
    "print(cardList)"
   ]
  },
  {
   "cell_type": "code",
   "outputs": [
    {
     "name": "stdout",
     "output_type": "stream",
     "text": [
      "1\n"
     ]
    }
   ],
   "source": [
    "print(3%2)"
   ],
   "metadata": {
    "collapsed": false,
    "ExecuteTime": {
     "end_time": "2024-04-30T00:32:12.586408400Z",
     "start_time": "2024-04-30T00:32:12.569903400Z"
    }
   },
   "id": "cee60d977e92f239",
   "execution_count": 78
  },
  {
   "cell_type": "code",
   "outputs": [
    {
     "data": {
      "text/plain": "['1', '0', '*', '(', '8', '+', '4', ')', '+', '(', '5', '+', '2', ')']"
     },
     "execution_count": 99,
     "metadata": {},
     "output_type": "execute_result"
    }
   ],
   "source": [
    "anlist=list('10*(8+4)+(5+2)')\n",
    "anlist"
   ],
   "metadata": {
    "collapsed": false,
    "ExecuteTime": {
     "end_time": "2024-04-30T01:56:45.380054300Z",
     "start_time": "2024-04-30T01:56:45.372305200Z"
    }
   },
   "id": "6ac2cf405b77fc00",
   "execution_count": 99
  },
  {
   "cell_type": "code",
   "outputs": [
    {
     "name": "stdout",
     "output_type": "stream",
     "text": [
      "['10', '2', '4', '5', '8']\n",
      "108452\n"
     ]
    }
   ],
   "source": [
    "list1=[]\n",
    "bc = ''\n",
    "for a in anlist:\n",
    "    if a.isdigit():\n",
    "        if a == '0':\n",
    "            list1[-1]='10'\n",
    "        else:\n",
    "            list1.append(a)\n",
    "        bc += a\n",
    "print(sorted(list1))\n",
    "print(bc)"
   ],
   "metadata": {
    "collapsed": false,
    "ExecuteTime": {
     "end_time": "2024-04-30T01:56:48.913604900Z",
     "start_time": "2024-04-30T01:56:48.906726Z"
    }
   },
   "id": "1471bf19c9178595",
   "execution_count": 100
  },
  {
   "cell_type": "code",
   "outputs": [
    {
     "data": {
      "text/plain": "2"
     },
     "execution_count": 91,
     "metadata": {},
     "output_type": "execute_result"
    }
   ],
   "source": [
    "bc.index('0')"
   ],
   "metadata": {
    "collapsed": false,
    "ExecuteTime": {
     "end_time": "2024-04-30T00:40:59.963640600Z",
     "start_time": "2024-04-30T00:40:59.945079400Z"
    }
   },
   "id": "4c82e4a901d161f",
   "execution_count": 91
  },
  {
   "cell_type": "code",
   "outputs": [
    {
     "data": {
      "text/plain": "False"
     },
     "execution_count": 101,
     "metadata": {},
     "output_type": "execute_result"
    }
   ],
   "source": [
    "sorted(list1) in sorted([10, 5, 8, 4, 1, 2])"
   ],
   "metadata": {
    "collapsed": false,
    "ExecuteTime": {
     "end_time": "2024-04-30T02:00:20.215942700Z",
     "start_time": "2024-04-30T02:00:20.194179100Z"
    }
   },
   "id": "3a677e34637d039b",
   "execution_count": 101
  },
  {
   "cell_type": "code",
   "outputs": [],
   "source": [
    "b=['10', '5', '8', '4', '1', '2']"
   ],
   "metadata": {
    "collapsed": false,
    "ExecuteTime": {
     "end_time": "2024-04-30T02:00:56.247654600Z",
     "start_time": "2024-04-30T02:00:56.218445800Z"
    }
   },
   "id": "e0389ec1ec36c2de",
   "execution_count": 104
  },
  {
   "cell_type": "code",
   "outputs": [
    {
     "data": {
      "text/plain": "True"
     },
     "execution_count": 105,
     "metadata": {},
     "output_type": "execute_result"
    }
   ],
   "source": [
    "all(e in b for e in list1)"
   ],
   "metadata": {
    "collapsed": false,
    "ExecuteTime": {
     "end_time": "2024-04-30T02:00:56.521587100Z",
     "start_time": "2024-04-30T02:00:56.485560400Z"
    }
   },
   "id": "7d0fbbdf1639c4dc",
   "execution_count": 105
  },
  {
   "cell_type": "code",
   "outputs": [
    {
     "name": "stdout",
     "output_type": "stream",
     "text": [
      "127\n",
      "['10', '8', '4', '5', '2']\n"
     ]
    }
   ],
   "source": [
    "answer = '10*(8+4)+(5+2)'\n",
    "cardturn = ['10', '5', '8', '4', '1', '2']\n",
    "force = 127\n",
    "anslist = list(answer)\n",
    "alist = []\n",
    "for i in anslist:\n",
    "    if i.isdigit():\n",
    "        if i =='0':\n",
    "            alist[-1]='10'\n",
    "        else:\n",
    "            alist.append(i)\n",
    "if all(e in sorted(cardturn) for e in sorted(alist)):\n",
    "\n",
    "    if eval(answer) == force:\n",
    "        print(force)\n",
    "    else:\n",
    "        print('틀림')\n",
    "\n",
    "else:\n",
    "    print('사용하신 숫자 중 카드에 없는 것이 있습니다')\n",
    "print(alist)"
   ],
   "metadata": {
    "collapsed": false,
    "ExecuteTime": {
     "end_time": "2024-04-30T07:33:23.219061100Z",
     "start_time": "2024-04-30T07:33:23.208052800Z"
    }
   },
   "id": "6c425f17c5ad95e9",
   "execution_count": 110
  },
  {
   "cell_type": "code",
   "outputs": [],
   "source": [],
   "metadata": {
    "collapsed": false
   },
   "id": "6e8e4c1531999dc6"
  }
 ],
 "metadata": {
  "kernelspec": {
   "display_name": "Python 3",
   "language": "python",
   "name": "python3"
  },
  "language_info": {
   "codemirror_mode": {
    "name": "ipython",
    "version": 3
   },
   "file_extension": ".py",
   "mimetype": "text/x-python",
   "name": "python",
   "nbconvert_exporter": "python",
   "pygments_lexer": "ipython3",
   "version": "3.8.19"
  }
 },
 "nbformat": 4,
 "nbformat_minor": 5
}
